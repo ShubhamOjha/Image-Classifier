{
 "cells": [
  {
   "cell_type": "markdown",
   "metadata": {},
   "source": [
    "# Developing an AI application\n",
    "\n",
    "Going forward, AI algorithms will be incorporated into more and more everyday applications. For example, you might want to include an image classifier in a smart phone app. To do this, you'd use a deep learning model trained on hundreds of thousands of images as part of the overall application architecture. A large part of software development in the future will be using these types of models as common parts of applications. \n",
    "\n",
    "In this project, you'll train an image classifier to recognize different species of flowers. You can imagine using something like this in a phone app that tells you the name of the flower your camera is looking at. In practice you'd train this classifier, then export it for use in your application. We'll be using [this dataset](http://www.robots.ox.ac.uk/~vgg/data/flowers/102/index.html) of 102 flower categories, you can see a few examples below. \n",
    "\n",
    "<img src='assets/Flowers.png' width=500px>\n",
    "\n",
    "The project is broken down into multiple steps:\n",
    "\n",
    "* Load and preprocess the image dataset\n",
    "* Train the image classifier on your dataset\n",
    "* Use the trained classifier to predict image content\n",
    "\n",
    "We'll lead you through each part which you'll implement in Python.\n",
    "\n",
    "When you've completed this project, you'll have an application that can be trained on any set of labeled images. Here your network will be learning about flowers and end up as a command line application. But, what you do with your new skills depends on your imagination and effort in building a dataset. For example, imagine an app where you take a picture of a car, it tells you what the make and model is, then looks up information about it. Go build your own dataset and make something new.\n",
    "\n",
    "First up is importing the packages you'll need. It's good practice to keep all the imports at the beginning of your code. As you work through this notebook and find you need to import a package, make sure to add the import up here.\n",
    "\n",
    "Please make sure if you are running this notebook in the workspace that you have chosen GPU rather than CPU mode."
   ]
  },
  {
   "cell_type": "code",
   "execution_count": 4,
   "metadata": {},
   "outputs": [],
   "source": [
    "# Imports here\n",
    "import matplotlib.pyplot as plt\n",
    "import numpy as np\n",
    "import torch\n",
    "from torch import nn\n",
    "from torch import optim\n",
    "import torch.nn.functional as F\n",
    "from torchvision import datasets, transforms, models\n",
    "import torchvision.models as models\n",
    "from PIL import Image\n",
    "import json\n"
   ]
  },
  {
   "cell_type": "markdown",
   "metadata": {},
   "source": [
    "## Load the data\n",
    "\n",
    "Here you'll use `torchvision` to load the data ([documentation](http://pytorch.org/docs/0.3.0/torchvision/index.html)). The data should be included alongside this notebook, otherwise you can [download it here](https://s3.amazonaws.com/content.udacity-data.com/nd089/flower_data.tar.gz). The dataset is split into three parts, training, validation, and testing. For the training, you'll want to apply transformations such as random scaling, cropping, and flipping. This will help the network generalize leading to better performance. You'll also need to make sure the input data is resized to 224x224 pixels as required by the pre-trained networks.\n",
    "\n",
    "The validation and testing sets are used to measure the model's performance on data it hasn't seen yet. For this you don't want any scaling or rotation transformations, but you'll need to resize then crop the images to the appropriate size.\n",
    "\n",
    "The pre-trained networks you'll use were trained on the ImageNet dataset where each color channel was normalized separately. For all three sets you'll need to normalize the means and standard deviations of the images to what the network expects. For the means, it's `[0.485, 0.456, 0.406]` and for the standard deviations `[0.229, 0.224, 0.225]`, calculated from the ImageNet images.  These values will shift each color channel to be centered at 0 and range from -1 to 1.\n",
    " "
   ]
  },
  {
   "cell_type": "code",
   "execution_count": 5,
   "metadata": {},
   "outputs": [],
   "source": [
    "data_dir = 'flowers'\n",
    "train_dir = data_dir + '/train'\n",
    "valid_dir = data_dir + '/valid'\n",
    "test_dir = data_dir + '/test'"
   ]
  },
  {
   "cell_type": "code",
   "execution_count": 6,
   "metadata": {},
   "outputs": [],
   "source": [
    "# TODO: Define your transforms for the training, validation, and testing sets\n",
    "train_transforms = transforms.Compose([transforms.RandomRotation(30),\n",
    "                                       transforms.RandomResizedCrop(224),\n",
    "                                       transforms.RandomHorizontalFlip(),\n",
    "                                       transforms.ToTensor(),\n",
    "                                       transforms.Normalize([0.485, 0.456, 0.406], \n",
    "                                                            [0.229, 0.224, 0.225])])\n",
    "\n",
    "test_transforms = transforms.Compose([transforms.Resize(256),\n",
    "                                      transforms.CenterCrop(224),\n",
    "                                      transforms.ToTensor(),\n",
    "                                      transforms.Normalize([0.485, 0.456, 0.406], \n",
    "                                                           [0.229, 0.224, 0.225])])\n",
    "\n",
    "validation_transforms = transforms.Compose([transforms.Resize(256),\n",
    "                                            transforms.CenterCrop(224),\n",
    "                                            transforms.ToTensor(),\n",
    "                                            transforms.Normalize([0.485, 0.456, 0.406], \n",
    "                                                                 [0.229, 0.224, 0.225])])\n",
    "\n",
    "# TODO: Load the datasets with ImageFolder\n",
    "train_data = datasets.ImageFolder(train_dir, transform=train_transforms)\n",
    "validation_data = datasets.ImageFolder(valid_dir, transform=validation_transforms)\n",
    "test_data = datasets.ImageFolder(test_dir ,transform = test_transforms)\n",
    "\n",
    "\n",
    "# TODO: Using the image datasets and the trainforms, define the dataloaders\n",
    "trainloader = torch.utils.data.DataLoader(train_data, batch_size=64, shuffle=True)\n",
    "vldLoader = torch.utils.data.DataLoader(validation_data, batch_size =64,shuffle = True)\n",
    "testloader = torch.utils.data.DataLoader(test_data, batch_size = 64, shuffle = True)"
   ]
  },
  {
   "cell_type": "markdown",
   "metadata": {},
   "source": [
    "### Label mapping\n",
    "\n",
    "You'll also need to load in a mapping from category label to category name. You can find this in the file `cat_to_name.json`. It's a JSON object which you can read in with the [`json` module](https://docs.python.org/2/library/json.html). This will give you a dictionary mapping the integer encoded categories to the actual names of the flowers."
   ]
  },
  {
   "cell_type": "code",
   "execution_count": 7,
   "metadata": {},
   "outputs": [],
   "source": [
    "\n",
    "\n",
    "with open('cat_to_name.json', 'r') as f:\n",
    "    cat_to_name = json.load(f)"
   ]
  },
  {
   "cell_type": "markdown",
   "metadata": {},
   "source": [
    "# Building and training the classifier\n",
    "\n",
    "Now that the data is ready, it's time to build and train the classifier. As usual, you should use one of the pretrained models from `torchvision.models` to get the image features. Build and train a new feed-forward classifier using those features.\n",
    "\n",
    "We're going to leave this part up to you. Refer to [the rubric](https://review.udacity.com/#!/rubrics/1663/view) for guidance on successfully completing this section. Things you'll need to do:\n",
    "\n",
    "* Load a [pre-trained network](http://pytorch.org/docs/master/torchvision/models.html) (If you need a starting point, the VGG networks work great and are straightforward to use)\n",
    "* Define a new, untrained feed-forward network as a classifier, using ReLU activations and dropout\n",
    "* Train the classifier layers using backpropagation using the pre-trained network to get the features\n",
    "* Track the loss and accuracy on the validation set to determine the best hyperparameters\n",
    "\n",
    "We've left a cell open for you below, but use as many as you need. Our advice is to break the problem up into smaller parts you can run separately. Check that each part is doing what you expect, then move on to the next. You'll likely find that as you work through each part, you'll need to go back and modify your previous code. This is totally normal!\n",
    "\n",
    "When training make sure you're updating only the weights of the feed-forward network. You should be able to get the validation accuracy above 70% if you build everything right. Make sure to try different hyperparameters (learning rate, units in the classifier, epochs, etc) to find the best model. Save those hyperparameters to use as default values in the next part of the project.\n",
    "\n",
    "One last important tip if you're using the workspace to run your code: To avoid having your workspace disconnect during the long-running tasks in this notebook, please read in the earlier page in this lesson called Intro to GPU Workspaces about Keeping Your Session Active. You'll want to include code from the workspace_utils.py module."
   ]
  },
  {
   "cell_type": "code",
   "execution_count": 5,
   "metadata": {},
   "outputs": [
    {
     "name": "stderr",
     "output_type": "stream",
     "text": [
      "Downloading: \"https://download.pytorch.org/models/vgg19-dcbb9e9d.pth\" to /root/.torch/models/vgg19-dcbb9e9d.pth\n",
      "100%|██████████| 574673361/574673361 [00:07<00:00, 73882775.68it/s]\n"
     ]
    }
   ],
   "source": [
    "\n",
    "# Use GPU if it's available\n",
    "device = torch.device(\"cuda\" if torch.cuda.is_available() else \"cpu\")\n",
    "\n",
    "model = models.vgg19(pretrained=True)\n",
    "\n",
    "\n",
    "for param in model.parameters():\n",
    "    param.requires_grad = False\n",
    "    \n",
    "model.classifier = nn.Sequential(nn.Linear(25088, 1024),\n",
    "                                 nn.ReLU(),\n",
    "                                 nn.Linear(1024,512),\n",
    "                                 nn.ReLU(),\n",
    "                                 nn.Linear(512,256),\n",
    "                                 nn.ReLU(),\n",
    "                                 nn.Dropout(0.2),\n",
    "                                 nn.Linear(256, 102),\n",
    "                                 nn.LogSoftmax(dim=1))\n",
    "\n",
    "criterion = nn.NLLLoss()\n",
    "\n",
    "\n",
    "optimizer = optim.Adam(model.classifier.parameters(), lr=0.003)\n",
    "\n",
    "model.to(device);"
   ]
  },
  {
   "cell_type": "code",
   "execution_count": 6,
   "metadata": {},
   "outputs": [
    {
     "name": "stdout",
     "output_type": "stream",
     "text": [
      "Epoch 1/6.. Train loss: 5.249.. Validation loss: 4.635.. Validation accuracy: 0.038\n",
      "Epoch 1/6.. Train loss: 4.647.. Validation loss: 4.463.. Validation accuracy: 0.042\n",
      "Epoch 1/6.. Train loss: 4.504.. Validation loss: 4.271.. Validation accuracy: 0.093\n",
      "Epoch 1/6.. Train loss: 4.299.. Validation loss: 4.141.. Validation accuracy: 0.109\n",
      "Epoch 1/6.. Train loss: 4.180.. Validation loss: 3.888.. Validation accuracy: 0.156\n",
      "Epoch 1/6.. Train loss: 4.064.. Validation loss: 3.650.. Validation accuracy: 0.173\n",
      "Epoch 1/6.. Train loss: 3.911.. Validation loss: 3.472.. Validation accuracy: 0.182\n",
      "Epoch 1/6.. Train loss: 3.764.. Validation loss: 3.332.. Validation accuracy: 0.196\n",
      "Epoch 1/6.. Train loss: 3.582.. Validation loss: 3.144.. Validation accuracy: 0.209\n",
      "Epoch 1/6.. Train loss: 3.390.. Validation loss: 2.927.. Validation accuracy: 0.286\n",
      "Epoch 1/6.. Train loss: 3.390.. Validation loss: 2.698.. Validation accuracy: 0.302\n",
      "Epoch 1/6.. Train loss: 3.059.. Validation loss: 2.647.. Validation accuracy: 0.330\n",
      "Epoch 1/6.. Train loss: 3.042.. Validation loss: 2.502.. Validation accuracy: 0.364\n",
      "Epoch 1/6.. Train loss: 3.106.. Validation loss: 2.464.. Validation accuracy: 0.379\n",
      "Epoch 1/6.. Train loss: 2.879.. Validation loss: 2.294.. Validation accuracy: 0.404\n",
      "Epoch 1/6.. Train loss: 2.637.. Validation loss: 2.201.. Validation accuracy: 0.405\n",
      "Epoch 1/6.. Train loss: 2.524.. Validation loss: 2.278.. Validation accuracy: 0.416\n",
      "Epoch 1/6.. Train loss: 2.893.. Validation loss: 2.305.. Validation accuracy: 0.358\n",
      "Epoch 1/6.. Train loss: 2.618.. Validation loss: 2.160.. Validation accuracy: 0.429\n",
      "Epoch 1/6.. Train loss: 2.718.. Validation loss: 2.025.. Validation accuracy: 0.463\n",
      "Epoch 2/6.. Train loss: 2.565.. Validation loss: 2.128.. Validation accuracy: 0.406\n",
      "Epoch 2/6.. Train loss: 2.573.. Validation loss: 1.951.. Validation accuracy: 0.452\n",
      "Epoch 2/6.. Train loss: 2.529.. Validation loss: 1.833.. Validation accuracy: 0.496\n",
      "Epoch 2/6.. Train loss: 2.457.. Validation loss: 1.915.. Validation accuracy: 0.471\n",
      "Epoch 2/6.. Train loss: 2.331.. Validation loss: 1.895.. Validation accuracy: 0.470\n",
      "Epoch 2/6.. Train loss: 2.353.. Validation loss: 1.843.. Validation accuracy: 0.483\n",
      "Epoch 2/6.. Train loss: 2.044.. Validation loss: 1.823.. Validation accuracy: 0.510\n",
      "Epoch 2/6.. Train loss: 2.323.. Validation loss: 1.720.. Validation accuracy: 0.520\n",
      "Epoch 2/6.. Train loss: 2.013.. Validation loss: 1.605.. Validation accuracy: 0.535\n",
      "Epoch 2/6.. Train loss: 1.955.. Validation loss: 1.473.. Validation accuracy: 0.576\n",
      "Epoch 2/6.. Train loss: 2.039.. Validation loss: 1.493.. Validation accuracy: 0.572\n",
      "Epoch 2/6.. Train loss: 2.076.. Validation loss: 1.441.. Validation accuracy: 0.583\n",
      "Epoch 2/6.. Train loss: 2.034.. Validation loss: 1.455.. Validation accuracy: 0.588\n",
      "Epoch 2/6.. Train loss: 1.921.. Validation loss: 1.523.. Validation accuracy: 0.572\n",
      "Epoch 2/6.. Train loss: 1.845.. Validation loss: 1.501.. Validation accuracy: 0.583\n",
      "Epoch 2/6.. Train loss: 1.949.. Validation loss: 1.473.. Validation accuracy: 0.580\n",
      "Epoch 2/6.. Train loss: 1.928.. Validation loss: 1.495.. Validation accuracy: 0.596\n",
      "Epoch 2/6.. Train loss: 1.967.. Validation loss: 1.394.. Validation accuracy: 0.603\n",
      "Epoch 2/6.. Train loss: 1.999.. Validation loss: 1.382.. Validation accuracy: 0.625\n",
      "Epoch 2/6.. Train loss: 1.906.. Validation loss: 1.478.. Validation accuracy: 0.562\n",
      "Epoch 2/6.. Train loss: 1.940.. Validation loss: 1.548.. Validation accuracy: 0.571\n",
      "Epoch 3/6.. Train loss: 1.780.. Validation loss: 1.361.. Validation accuracy: 0.608\n",
      "Epoch 3/6.. Train loss: 1.870.. Validation loss: 1.425.. Validation accuracy: 0.589\n",
      "Epoch 3/6.. Train loss: 1.712.. Validation loss: 1.384.. Validation accuracy: 0.610\n",
      "Epoch 3/6.. Train loss: 1.855.. Validation loss: 1.302.. Validation accuracy: 0.623\n",
      "Epoch 3/6.. Train loss: 1.609.. Validation loss: 1.353.. Validation accuracy: 0.598\n",
      "Epoch 3/6.. Train loss: 1.636.. Validation loss: 1.348.. Validation accuracy: 0.606\n",
      "Epoch 3/6.. Train loss: 1.910.. Validation loss: 1.219.. Validation accuracy: 0.634\n",
      "Epoch 3/6.. Train loss: 1.744.. Validation loss: 1.304.. Validation accuracy: 0.638\n",
      "Epoch 3/6.. Train loss: 1.746.. Validation loss: 1.259.. Validation accuracy: 0.633\n",
      "Epoch 3/6.. Train loss: 1.789.. Validation loss: 1.340.. Validation accuracy: 0.613\n",
      "Epoch 3/6.. Train loss: 1.783.. Validation loss: 1.291.. Validation accuracy: 0.639\n",
      "Epoch 3/6.. Train loss: 1.810.. Validation loss: 1.392.. Validation accuracy: 0.617\n",
      "Epoch 3/6.. Train loss: 1.639.. Validation loss: 1.261.. Validation accuracy: 0.641\n",
      "Epoch 3/6.. Train loss: 1.796.. Validation loss: 1.204.. Validation accuracy: 0.644\n",
      "Epoch 3/6.. Train loss: 1.646.. Validation loss: 1.224.. Validation accuracy: 0.653\n",
      "Epoch 3/6.. Train loss: 1.455.. Validation loss: 1.264.. Validation accuracy: 0.673\n",
      "Epoch 3/6.. Train loss: 1.794.. Validation loss: 1.199.. Validation accuracy: 0.652\n",
      "Epoch 3/6.. Train loss: 1.531.. Validation loss: 1.275.. Validation accuracy: 0.650\n",
      "Epoch 3/6.. Train loss: 1.812.. Validation loss: 1.177.. Validation accuracy: 0.680\n",
      "Epoch 3/6.. Train loss: 1.653.. Validation loss: 1.313.. Validation accuracy: 0.629\n",
      "Epoch 4/6.. Train loss: 1.691.. Validation loss: 1.143.. Validation accuracy: 0.679\n",
      "Epoch 4/6.. Train loss: 1.534.. Validation loss: 1.082.. Validation accuracy: 0.686\n",
      "Epoch 4/6.. Train loss: 1.654.. Validation loss: 1.201.. Validation accuracy: 0.674\n",
      "Epoch 4/6.. Train loss: 1.472.. Validation loss: 1.165.. Validation accuracy: 0.661\n",
      "Epoch 4/6.. Train loss: 1.414.. Validation loss: 1.027.. Validation accuracy: 0.696\n",
      "Epoch 4/6.. Train loss: 1.592.. Validation loss: 1.072.. Validation accuracy: 0.690\n",
      "Epoch 4/6.. Train loss: 1.663.. Validation loss: 1.089.. Validation accuracy: 0.695\n",
      "Epoch 4/6.. Train loss: 1.403.. Validation loss: 1.085.. Validation accuracy: 0.698\n",
      "Epoch 4/6.. Train loss: 1.426.. Validation loss: 1.022.. Validation accuracy: 0.709\n",
      "Epoch 4/6.. Train loss: 1.546.. Validation loss: 1.054.. Validation accuracy: 0.699\n",
      "Epoch 4/6.. Train loss: 1.552.. Validation loss: 1.131.. Validation accuracy: 0.661\n",
      "Epoch 4/6.. Train loss: 1.430.. Validation loss: 1.041.. Validation accuracy: 0.688\n",
      "Epoch 4/6.. Train loss: 1.551.. Validation loss: 1.041.. Validation accuracy: 0.694\n",
      "Epoch 4/6.. Train loss: 1.548.. Validation loss: 1.141.. Validation accuracy: 0.677\n",
      "Epoch 4/6.. Train loss: 1.923.. Validation loss: 1.173.. Validation accuracy: 0.691\n",
      "Epoch 4/6.. Train loss: 1.396.. Validation loss: 1.123.. Validation accuracy: 0.686\n",
      "Epoch 4/6.. Train loss: 1.639.. Validation loss: 1.128.. Validation accuracy: 0.688\n",
      "Epoch 4/6.. Train loss: 1.530.. Validation loss: 1.196.. Validation accuracy: 0.681\n",
      "Epoch 4/6.. Train loss: 1.602.. Validation loss: 1.017.. Validation accuracy: 0.708\n",
      "Epoch 4/6.. Train loss: 1.462.. Validation loss: 0.987.. Validation accuracy: 0.712\n",
      "Epoch 4/6.. Train loss: 1.631.. Validation loss: 0.959.. Validation accuracy: 0.731\n",
      "Epoch 5/6.. Train loss: 1.426.. Validation loss: 1.065.. Validation accuracy: 0.696\n",
      "Epoch 5/6.. Train loss: 1.494.. Validation loss: 1.055.. Validation accuracy: 0.710\n",
      "Epoch 5/6.. Train loss: 1.408.. Validation loss: 1.216.. Validation accuracy: 0.669\n",
      "Epoch 5/6.. Train loss: 1.353.. Validation loss: 1.188.. Validation accuracy: 0.675\n",
      "Epoch 5/6.. Train loss: 1.506.. Validation loss: 1.023.. Validation accuracy: 0.720\n",
      "Epoch 5/6.. Train loss: 1.442.. Validation loss: 1.039.. Validation accuracy: 0.710\n",
      "Epoch 5/6.. Train loss: 1.431.. Validation loss: 0.984.. Validation accuracy: 0.728\n",
      "Epoch 5/6.. Train loss: 1.466.. Validation loss: 1.028.. Validation accuracy: 0.725\n",
      "Epoch 5/6.. Train loss: 1.343.. Validation loss: 1.052.. Validation accuracy: 0.723\n",
      "Epoch 5/6.. Train loss: 1.358.. Validation loss: 0.966.. Validation accuracy: 0.736\n",
      "Epoch 5/6.. Train loss: 1.337.. Validation loss: 0.935.. Validation accuracy: 0.729\n",
      "Epoch 5/6.. Train loss: 1.360.. Validation loss: 0.921.. Validation accuracy: 0.753\n",
      "Epoch 5/6.. Train loss: 1.468.. Validation loss: 0.932.. Validation accuracy: 0.734\n",
      "Epoch 5/6.. Train loss: 1.253.. Validation loss: 1.019.. Validation accuracy: 0.716\n",
      "Epoch 5/6.. Train loss: 1.524.. Validation loss: 0.946.. Validation accuracy: 0.727\n",
      "Epoch 5/6.. Train loss: 1.383.. Validation loss: 0.921.. Validation accuracy: 0.737\n",
      "Epoch 5/6.. Train loss: 1.445.. Validation loss: 0.912.. Validation accuracy: 0.743\n",
      "Epoch 5/6.. Train loss: 1.245.. Validation loss: 0.938.. Validation accuracy: 0.736\n",
      "Epoch 5/6.. Train loss: 1.251.. Validation loss: 0.923.. Validation accuracy: 0.737\n",
      "Epoch 5/6.. Train loss: 1.402.. Validation loss: 0.875.. Validation accuracy: 0.754\n",
      "Epoch 5/6.. Train loss: 1.342.. Validation loss: 0.868.. Validation accuracy: 0.766\n",
      "Epoch 6/6.. Train loss: 1.160.. Validation loss: 0.855.. Validation accuracy: 0.766\n",
      "Epoch 6/6.. Train loss: 1.266.. Validation loss: 0.870.. Validation accuracy: 0.745\n",
      "Epoch 6/6.. Train loss: 1.174.. Validation loss: 0.922.. Validation accuracy: 0.739\n",
      "Epoch 6/6.. Train loss: 1.324.. Validation loss: 0.920.. Validation accuracy: 0.734\n",
      "Epoch 6/6.. Train loss: 1.286.. Validation loss: 0.987.. Validation accuracy: 0.726\n",
      "Epoch 6/6.. Train loss: 1.424.. Validation loss: 0.960.. Validation accuracy: 0.728\n",
      "Epoch 6/6.. Train loss: 1.373.. Validation loss: 0.857.. Validation accuracy: 0.746\n",
      "Epoch 6/6.. Train loss: 1.285.. Validation loss: 0.909.. Validation accuracy: 0.749\n",
      "Epoch 6/6.. Train loss: 1.239.. Validation loss: 0.896.. Validation accuracy: 0.765\n",
      "Epoch 6/6.. Train loss: 1.244.. Validation loss: 0.869.. Validation accuracy: 0.757\n",
      "Epoch 6/6.. Train loss: 1.274.. Validation loss: 0.845.. Validation accuracy: 0.764\n",
      "Epoch 6/6.. Train loss: 1.283.. Validation loss: 0.894.. Validation accuracy: 0.763\n",
      "Epoch 6/6.. Train loss: 1.396.. Validation loss: 0.859.. Validation accuracy: 0.763\n",
      "Epoch 6/6.. Train loss: 1.306.. Validation loss: 0.806.. Validation accuracy: 0.764\n",
      "Epoch 6/6.. Train loss: 1.420.. Validation loss: 0.822.. Validation accuracy: 0.770\n",
      "Epoch 6/6.. Train loss: 1.367.. Validation loss: 0.777.. Validation accuracy: 0.774\n",
      "Epoch 6/6.. Train loss: 1.386.. Validation loss: 0.752.. Validation accuracy: 0.790\n",
      "Epoch 6/6.. Train loss: 1.220.. Validation loss: 0.808.. Validation accuracy: 0.781\n",
      "Epoch 6/6.. Train loss: 1.144.. Validation loss: 0.872.. Validation accuracy: 0.751\n",
      "Epoch 6/6.. Train loss: 1.262.. Validation loss: 0.911.. Validation accuracy: 0.754\n"
     ]
    }
   ],
   "source": [
    "epochs = 6\n",
    "steps = 0\n",
    "running_loss = 0\n",
    "print_every = 5\n",
    "for epoch in range(epochs):\n",
    "    for inputs, labels in trainloader:\n",
    "        steps += 1\n",
    "        # Move input and label tensors to the default device\n",
    "        inputs, labels = inputs.to(device), labels.to(device)\n",
    "        \n",
    "        optimizer.zero_grad()\n",
    "        \n",
    "        logps = model.forward(inputs)\n",
    "        loss = criterion(logps, labels)\n",
    "        loss.backward()\n",
    "        optimizer.step()\n",
    "\n",
    "        running_loss += loss.item()\n",
    "        \n",
    "        if steps % print_every == 0:\n",
    "            validation_loss = 0\n",
    "            accuracy = 0\n",
    "            model.eval()\n",
    "            with torch.no_grad():\n",
    "                for inputs, labels in vldLoader:\n",
    "                    inputs, labels = inputs.to(device), labels.to(device)\n",
    "                    logps = model.forward(inputs)\n",
    "                    batch_loss = criterion(logps, labels)\n",
    "                    \n",
    "                    validation_loss += batch_loss.item()\n",
    "                    \n",
    "                    # Calculate accuracy\n",
    "                    ps = torch.exp(logps)\n",
    "                    top_p, top_class = ps.topk(1, dim=1)\n",
    "                    equals = top_class == labels.view(*top_class.shape)\n",
    "                    accuracy += torch.mean(equals.type(torch.FloatTensor)).item()\n",
    "                    \n",
    "            print(f\"Epoch {epoch+1}/{epochs}.. \"\n",
    "                  f\"Train loss: {running_loss/print_every:.3f}.. \"\n",
    "                  f\"Validation loss: {validation_loss/len(vldLoader):.3f}.. \"\n",
    "                  f\"Validation accuracy: {accuracy/len(vldLoader):.3f}\")\n",
    "            running_loss = 0\n",
    "            model.train()"
   ]
  },
  {
   "cell_type": "markdown",
   "metadata": {},
   "source": [
    "## Testing your network\n",
    "\n",
    "It's good practice to test your trained network on test data, images the network has never seen either in training or validation. This will give you a good estimate for the model's performance on completely new images. Run the test images through the network and measure the accuracy, the same way you did validation. You should be able to reach around 70% accuracy on the test set if the model has been trained well."
   ]
  },
  {
   "cell_type": "code",
   "execution_count": 7,
   "metadata": {},
   "outputs": [],
   "source": [
    "def test_accuracy(testloader):    \n",
    "    correct = 0\n",
    "    total = 0\n",
    "    model.to(device)\n",
    "    with torch.no_grad():\n",
    "        for data in testloader:\n",
    "            images, labels = data\n",
    "            images, labels = images.to(device), labels.to(device)\n",
    "            outputs = model(images)\n",
    "            _, predicted = torch.max(outputs.data, 1)\n",
    "            total += labels.size(0)\n",
    "            correct += (predicted == labels).sum().item()\n",
    "\n",
    "    print('Network Accuracy on the test data: %d %%' % (100 * correct / total))\n",
    "    \n"
   ]
  },
  {
   "cell_type": "code",
   "execution_count": 8,
   "metadata": {},
   "outputs": [
    {
     "name": "stdout",
     "output_type": "stream",
     "text": [
      "Network Accuracy on the test data: 71 %\n"
     ]
    }
   ],
   "source": [
    "test_accuracy(testloader)"
   ]
  },
  {
   "cell_type": "markdown",
   "metadata": {},
   "source": [
    "## Save the checkpoint\n",
    "\n",
    "Now that your network is trained, save the model so you can load it later for making predictions. You probably want to save other things such as the mapping of classes to indices which you get from one of the image datasets: `image_datasets['train'].class_to_idx`. You can attach this to the model as an attribute which makes inference easier later on.\n",
    "\n",
    "```model.class_to_idx = image_datasets['train'].class_to_idx```\n",
    "\n",
    "Remember that you'll want to completely rebuild the model later so you can use it for inference. Make sure to include any information you need in the checkpoint. If you want to load the model and keep training, you'll want to save the number of epochs as well as the optimizer state, `optimizer.state_dict`. You'll likely want to use this trained model in the next part of the project, so best to save it now."
   ]
  },
  {
   "cell_type": "code",
   "execution_count": 9,
   "metadata": {},
   "outputs": [],
   "source": [
    "model.class_to_idx = train_data.class_to_idx\n",
    "\n",
    "model.cpu\n",
    "torch.save({'structure' :'VGG19',\n",
    "            'input_size' : 25088,\n",
    "            'hidden_layer1':1024,\n",
    "            'output_size' : 102,\n",
    "            'state_dict':model.state_dict(),\n",
    "            'class_to_idx':model.class_to_idx},\n",
    "            'checkpoint1.pth')\n"
   ]
  },
  {
   "cell_type": "code",
   "execution_count": 10,
   "metadata": {},
   "outputs": [
    {
     "data": {
      "text/plain": [
       "{'1': 0,\n",
       " '10': 1,\n",
       " '100': 2,\n",
       " '101': 3,\n",
       " '102': 4,\n",
       " '11': 5,\n",
       " '12': 6,\n",
       " '13': 7,\n",
       " '14': 8,\n",
       " '15': 9,\n",
       " '16': 10,\n",
       " '17': 11,\n",
       " '18': 12,\n",
       " '19': 13,\n",
       " '2': 14,\n",
       " '20': 15,\n",
       " '21': 16,\n",
       " '22': 17,\n",
       " '23': 18,\n",
       " '24': 19,\n",
       " '25': 20,\n",
       " '26': 21,\n",
       " '27': 22,\n",
       " '28': 23,\n",
       " '29': 24,\n",
       " '3': 25,\n",
       " '30': 26,\n",
       " '31': 27,\n",
       " '32': 28,\n",
       " '33': 29,\n",
       " '34': 30,\n",
       " '35': 31,\n",
       " '36': 32,\n",
       " '37': 33,\n",
       " '38': 34,\n",
       " '39': 35,\n",
       " '4': 36,\n",
       " '40': 37,\n",
       " '41': 38,\n",
       " '42': 39,\n",
       " '43': 40,\n",
       " '44': 41,\n",
       " '45': 42,\n",
       " '46': 43,\n",
       " '47': 44,\n",
       " '48': 45,\n",
       " '49': 46,\n",
       " '5': 47,\n",
       " '50': 48,\n",
       " '51': 49,\n",
       " '52': 50,\n",
       " '53': 51,\n",
       " '54': 52,\n",
       " '55': 53,\n",
       " '56': 54,\n",
       " '57': 55,\n",
       " '58': 56,\n",
       " '59': 57,\n",
       " '6': 58,\n",
       " '60': 59,\n",
       " '61': 60,\n",
       " '62': 61,\n",
       " '63': 62,\n",
       " '64': 63,\n",
       " '65': 64,\n",
       " '66': 65,\n",
       " '67': 66,\n",
       " '68': 67,\n",
       " '69': 68,\n",
       " '7': 69,\n",
       " '70': 70,\n",
       " '71': 71,\n",
       " '72': 72,\n",
       " '73': 73,\n",
       " '74': 74,\n",
       " '75': 75,\n",
       " '76': 76,\n",
       " '77': 77,\n",
       " '78': 78,\n",
       " '79': 79,\n",
       " '8': 80,\n",
       " '80': 81,\n",
       " '81': 82,\n",
       " '82': 83,\n",
       " '83': 84,\n",
       " '84': 85,\n",
       " '85': 86,\n",
       " '86': 87,\n",
       " '87': 88,\n",
       " '88': 89,\n",
       " '89': 90,\n",
       " '9': 91,\n",
       " '90': 92,\n",
       " '91': 93,\n",
       " '92': 94,\n",
       " '93': 95,\n",
       " '94': 96,\n",
       " '95': 97,\n",
       " '96': 98,\n",
       " '97': 99,\n",
       " '98': 100,\n",
       " '99': 101}"
      ]
     },
     "execution_count": 10,
     "metadata": {},
     "output_type": "execute_result"
    }
   ],
   "source": [
    "train_data.class_to_idx"
   ]
  },
  {
   "cell_type": "code",
   "execution_count": 11,
   "metadata": {},
   "outputs": [
    {
     "name": "stdout",
     "output_type": "stream",
     "text": [
      "VGG(\n",
      "  (features): Sequential(\n",
      "    (0): Conv2d(3, 64, kernel_size=(3, 3), stride=(1, 1), padding=(1, 1))\n",
      "    (1): ReLU(inplace)\n",
      "    (2): Conv2d(64, 64, kernel_size=(3, 3), stride=(1, 1), padding=(1, 1))\n",
      "    (3): ReLU(inplace)\n",
      "    (4): MaxPool2d(kernel_size=2, stride=2, padding=0, dilation=1, ceil_mode=False)\n",
      "    (5): Conv2d(64, 128, kernel_size=(3, 3), stride=(1, 1), padding=(1, 1))\n",
      "    (6): ReLU(inplace)\n",
      "    (7): Conv2d(128, 128, kernel_size=(3, 3), stride=(1, 1), padding=(1, 1))\n",
      "    (8): ReLU(inplace)\n",
      "    (9): MaxPool2d(kernel_size=2, stride=2, padding=0, dilation=1, ceil_mode=False)\n",
      "    (10): Conv2d(128, 256, kernel_size=(3, 3), stride=(1, 1), padding=(1, 1))\n",
      "    (11): ReLU(inplace)\n",
      "    (12): Conv2d(256, 256, kernel_size=(3, 3), stride=(1, 1), padding=(1, 1))\n",
      "    (13): ReLU(inplace)\n",
      "    (14): Conv2d(256, 256, kernel_size=(3, 3), stride=(1, 1), padding=(1, 1))\n",
      "    (15): ReLU(inplace)\n",
      "    (16): Conv2d(256, 256, kernel_size=(3, 3), stride=(1, 1), padding=(1, 1))\n",
      "    (17): ReLU(inplace)\n",
      "    (18): MaxPool2d(kernel_size=2, stride=2, padding=0, dilation=1, ceil_mode=False)\n",
      "    (19): Conv2d(256, 512, kernel_size=(3, 3), stride=(1, 1), padding=(1, 1))\n",
      "    (20): ReLU(inplace)\n",
      "    (21): Conv2d(512, 512, kernel_size=(3, 3), stride=(1, 1), padding=(1, 1))\n",
      "    (22): ReLU(inplace)\n",
      "    (23): Conv2d(512, 512, kernel_size=(3, 3), stride=(1, 1), padding=(1, 1))\n",
      "    (24): ReLU(inplace)\n",
      "    (25): Conv2d(512, 512, kernel_size=(3, 3), stride=(1, 1), padding=(1, 1))\n",
      "    (26): ReLU(inplace)\n",
      "    (27): MaxPool2d(kernel_size=2, stride=2, padding=0, dilation=1, ceil_mode=False)\n",
      "    (28): Conv2d(512, 512, kernel_size=(3, 3), stride=(1, 1), padding=(1, 1))\n",
      "    (29): ReLU(inplace)\n",
      "    (30): Conv2d(512, 512, kernel_size=(3, 3), stride=(1, 1), padding=(1, 1))\n",
      "    (31): ReLU(inplace)\n",
      "    (32): Conv2d(512, 512, kernel_size=(3, 3), stride=(1, 1), padding=(1, 1))\n",
      "    (33): ReLU(inplace)\n",
      "    (34): Conv2d(512, 512, kernel_size=(3, 3), stride=(1, 1), padding=(1, 1))\n",
      "    (35): ReLU(inplace)\n",
      "    (36): MaxPool2d(kernel_size=2, stride=2, padding=0, dilation=1, ceil_mode=False)\n",
      "  )\n",
      "  (classifier): Sequential(\n",
      "    (0): Linear(in_features=25088, out_features=1024, bias=True)\n",
      "    (1): ReLU()\n",
      "    (2): Linear(in_features=1024, out_features=512, bias=True)\n",
      "    (3): ReLU()\n",
      "    (4): Linear(in_features=512, out_features=256, bias=True)\n",
      "    (5): ReLU()\n",
      "    (6): Dropout(p=0.2)\n",
      "    (7): Linear(in_features=256, out_features=102, bias=True)\n",
      "    (8): LogSoftmax()\n",
      "  )\n",
      ")\n"
     ]
    }
   ],
   "source": [
    "print(model)"
   ]
  },
  {
   "cell_type": "markdown",
   "metadata": {},
   "source": [
    "## Loading the checkpoint\n",
    "\n",
    "At this point it's good to write a function that can load a checkpoint and rebuild the model. That way you can come back to this project and keep working on it without having to retrain the network."
   ]
  },
  {
   "cell_type": "code",
   "execution_count": 8,
   "metadata": {},
   "outputs": [],
   "source": [
    "def load_checkpoint(filepath):\n",
    "    checkpoint = torch.load(filepath,map_location=lambda storage, loc: storage)\n",
    "    \n",
    "    model_chk = models.vgg19()\n",
    "    \n",
    "    model_chk.classifier = nn.Sequential(nn.Linear(checkpoint['input_size'], checkpoint['hidden_layer1']),\n",
    "                                 nn.ReLU(),\n",
    "                                 nn.Linear(checkpoint['hidden_layer1'] ,512),\n",
    "                                 nn.ReLU(),\n",
    "                                 nn.Linear(512,256),\n",
    "                                 nn.ReLU(),\n",
    "                                 nn.Dropout(0.2),\n",
    "                                 nn.Linear(256, checkpoint['output_size']),\n",
    "                                 nn.LogSoftmax(dim=1))\n",
    "    \n",
    "    model_chk.class_to_idx = checkpoint['class_to_idx']\n",
    "\n",
    "    model_chk.load_state_dict(checkpoint['state_dict'])\n",
    "    \n",
    "    return model_chk"
   ]
  },
  {
   "cell_type": "code",
   "execution_count": 9,
   "metadata": {},
   "outputs": [
    {
     "name": "stdout",
     "output_type": "stream",
     "text": [
      "VGG(\n",
      "  (features): Sequential(\n",
      "    (0): Conv2d(3, 64, kernel_size=(3, 3), stride=(1, 1), padding=(1, 1))\n",
      "    (1): ReLU(inplace)\n",
      "    (2): Conv2d(64, 64, kernel_size=(3, 3), stride=(1, 1), padding=(1, 1))\n",
      "    (3): ReLU(inplace)\n",
      "    (4): MaxPool2d(kernel_size=2, stride=2, padding=0, dilation=1, ceil_mode=False)\n",
      "    (5): Conv2d(64, 128, kernel_size=(3, 3), stride=(1, 1), padding=(1, 1))\n",
      "    (6): ReLU(inplace)\n",
      "    (7): Conv2d(128, 128, kernel_size=(3, 3), stride=(1, 1), padding=(1, 1))\n",
      "    (8): ReLU(inplace)\n",
      "    (9): MaxPool2d(kernel_size=2, stride=2, padding=0, dilation=1, ceil_mode=False)\n",
      "    (10): Conv2d(128, 256, kernel_size=(3, 3), stride=(1, 1), padding=(1, 1))\n",
      "    (11): ReLU(inplace)\n",
      "    (12): Conv2d(256, 256, kernel_size=(3, 3), stride=(1, 1), padding=(1, 1))\n",
      "    (13): ReLU(inplace)\n",
      "    (14): Conv2d(256, 256, kernel_size=(3, 3), stride=(1, 1), padding=(1, 1))\n",
      "    (15): ReLU(inplace)\n",
      "    (16): Conv2d(256, 256, kernel_size=(3, 3), stride=(1, 1), padding=(1, 1))\n",
      "    (17): ReLU(inplace)\n",
      "    (18): MaxPool2d(kernel_size=2, stride=2, padding=0, dilation=1, ceil_mode=False)\n",
      "    (19): Conv2d(256, 512, kernel_size=(3, 3), stride=(1, 1), padding=(1, 1))\n",
      "    (20): ReLU(inplace)\n",
      "    (21): Conv2d(512, 512, kernel_size=(3, 3), stride=(1, 1), padding=(1, 1))\n",
      "    (22): ReLU(inplace)\n",
      "    (23): Conv2d(512, 512, kernel_size=(3, 3), stride=(1, 1), padding=(1, 1))\n",
      "    (24): ReLU(inplace)\n",
      "    (25): Conv2d(512, 512, kernel_size=(3, 3), stride=(1, 1), padding=(1, 1))\n",
      "    (26): ReLU(inplace)\n",
      "    (27): MaxPool2d(kernel_size=2, stride=2, padding=0, dilation=1, ceil_mode=False)\n",
      "    (28): Conv2d(512, 512, kernel_size=(3, 3), stride=(1, 1), padding=(1, 1))\n",
      "    (29): ReLU(inplace)\n",
      "    (30): Conv2d(512, 512, kernel_size=(3, 3), stride=(1, 1), padding=(1, 1))\n",
      "    (31): ReLU(inplace)\n",
      "    (32): Conv2d(512, 512, kernel_size=(3, 3), stride=(1, 1), padding=(1, 1))\n",
      "    (33): ReLU(inplace)\n",
      "    (34): Conv2d(512, 512, kernel_size=(3, 3), stride=(1, 1), padding=(1, 1))\n",
      "    (35): ReLU(inplace)\n",
      "    (36): MaxPool2d(kernel_size=2, stride=2, padding=0, dilation=1, ceil_mode=False)\n",
      "  )\n",
      "  (classifier): Sequential(\n",
      "    (0): Linear(in_features=25088, out_features=1024, bias=True)\n",
      "    (1): ReLU()\n",
      "    (2): Linear(in_features=1024, out_features=512, bias=True)\n",
      "    (3): ReLU()\n",
      "    (4): Linear(in_features=512, out_features=256, bias=True)\n",
      "    (5): ReLU()\n",
      "    (6): Dropout(p=0.2)\n",
      "    (7): Linear(in_features=256, out_features=102, bias=True)\n",
      "    (8): LogSoftmax()\n",
      "  )\n",
      ")\n"
     ]
    }
   ],
   "source": [
    "model_chk = load_checkpoint('checkpoint1.pth')  \n",
    "print(model_chk)"
   ]
  },
  {
   "cell_type": "markdown",
   "metadata": {},
   "source": [
    "# Inference for classification\n",
    "\n",
    "Now you'll write a function to use a trained network for inference. That is, you'll pass an image into the network and predict the class of the flower in the image. Write a function called `predict` that takes an image and a model, then returns the top $K$ most likely classes along with the probabilities. It should look like \n",
    "\n",
    "```python\n",
    "probs, classes = predict(image_path, model)\n",
    "print(probs)\n",
    "print(classes)\n",
    "> [ 0.01558163  0.01541934  0.01452626  0.01443549  0.01407339]\n",
    "> ['70', '3', '45', '62', '55']\n",
    "```\n",
    "\n",
    "First you'll need to handle processing the input image such that it can be used in your network. \n",
    "\n",
    "## Image Preprocessing\n",
    "\n",
    "You'll want to use `PIL` to load the image ([documentation](https://pillow.readthedocs.io/en/latest/reference/Image.html)). It's best to write a function that preprocesses the image so it can be used as input for the model. This function should process the images in the same manner used for training. \n",
    "\n",
    "First, resize the images where the shortest side is 256 pixels, keeping the aspect ratio. This can be done with the [`thumbnail`](http://pillow.readthedocs.io/en/3.1.x/reference/Image.html#PIL.Image.Image.thumbnail) or [`resize`](http://pillow.readthedocs.io/en/3.1.x/reference/Image.html#PIL.Image.Image.thumbnail) methods. Then you'll need to crop out the center 224x224 portion of the image.\n",
    "\n",
    "Color channels of images are typically encoded as integers 0-255, but the model expected floats 0-1. You'll need to convert the values. It's easiest with a Numpy array, which you can get from a PIL image like so `np_image = np.array(pil_image)`.\n",
    "\n",
    "As before, the network expects the images to be normalized in a specific way. For the means, it's `[0.485, 0.456, 0.406]` and for the standard deviations `[0.229, 0.224, 0.225]`. You'll want to subtract the means from each color channel, then divide by the standard deviation. \n",
    "\n",
    "And finally, PyTorch expects the color channel to be the first dimension but it's the third dimension in the PIL image and Numpy array. You can reorder dimensions using [`ndarray.transpose`](https://docs.scipy.org/doc/numpy-1.13.0/reference/generated/numpy.ndarray.transpose.html). The color channel needs to be first and retain the order of the other two dimensions."
   ]
  },
  {
   "cell_type": "code",
   "execution_count": 27,
   "metadata": {},
   "outputs": [],
   "source": [
    "def process_image(image):\n",
    "    ''' Scales, crops, and normalizes a PIL image for a PyTorch model,\n",
    "        returns an Numpy array\n",
    "    '''\n",
    "\n",
    "    \n",
    "    pil_image = Image.open(image)\n",
    "    \n",
    "    w, h = pil_image.size\n",
    "    size = 256\n",
    "    \n",
    "    aspect = float(w)/float(h)\n",
    "    \n",
    "    if(w > h):\n",
    "        rh = 256\n",
    "        rw = 256 * aspect\n",
    "    elif(w < h):\n",
    "        rw = 256\n",
    "        rh = 256 * aspect\n",
    "    else:\n",
    "        rw = 256\n",
    "        rh = 256\n",
    "    \n",
    "    pil_image.thumbnail((rw, rh))\n",
    "    print(pil_image.size)\n",
    "                    \n",
    "    w, h = pil_image.size\n",
    "    cropped_img = pil_image.crop((w//2 - 224//2, h//2 - 224//2, w//2 + 224//2, h//2 + 224//2))\n",
    "\n",
    "\n",
    "    np_image = np.array(cropped_img,dtype=np.float32)/255    \n",
    "\n",
    "    mean = np.array([0.485, 0.456, 0.406])\n",
    "    std = np.array([0.229, 0.224, 0.225])\n",
    "    np_image = (np_image - mean)/std    \n",
    "    np_image = np.transpose(np_image, (2, 0, 1))\n",
    "\n",
    "\n",
    "    return np_image\n",
    "    \n",
    "    \n",
    "    # TODO: Process a PIL image for use in a PyTorch model\n",
    "\n",
    "    # TODO: Process a PIL image for use in a PyTorch model"
   ]
  },
  {
   "cell_type": "code",
   "execution_count": 28,
   "metadata": {},
   "outputs": [
    {
     "data": {
      "text/plain": [
       "'/home/workspace/aipnd-project/flowers/test/2/image_05133.jpg'"
      ]
     },
     "execution_count": 28,
     "metadata": {},
     "output_type": "execute_result"
    }
   ],
   "source": [
    "sample_image = '/home/workspace/aipnd-project/flowers/test/2/' + 'image_05133.jpg'\n",
    "sample_image\n",
    "    "
   ]
  },
  {
   "cell_type": "markdown",
   "metadata": {},
   "source": [
    "To check your work, the function below converts a PyTorch tensor and displays it in the notebook. If your `process_image` function works, running the output through this function should return the original image (except for the cropped out portions)."
   ]
  },
  {
   "cell_type": "code",
   "execution_count": 29,
   "metadata": {},
   "outputs": [],
   "source": [
    "def imshow(image, ax=None, title=None):\n",
    "    if ax is None:\n",
    "        fig, ax = plt.subplots()\n",
    "    \n",
    "    # PyTorch tensors assume the color channel is the first dimension\n",
    "    # but matplotlib assumes is the third dimension\n",
    "    image = image.transpose((1, 2, 0))\n",
    "    \n",
    "    # Undo preprocessing\n",
    "    mean = np.array([0.485, 0.456, 0.406])\n",
    "    std = np.array([0.229, 0.224, 0.225])\n",
    "    image = std * image + mean\n",
    "    \n",
    "    # Image needs to be clipped between 0 and 1 or it looks like noise when displayed\n",
    "    image = np.clip(image, 0, 1)\n",
    "    \n",
    "    ax.imshow(image)\n",
    "    \n",
    "    return ax"
   ]
  },
  {
   "cell_type": "code",
   "execution_count": 30,
   "metadata": {},
   "outputs": [
    {
     "name": "stdout",
     "output_type": "stream",
     "text": [
      "(183, 216)\n"
     ]
    },
    {
     "data": {
      "text/plain": [
       "(3, 224, 224)"
      ]
     },
     "execution_count": 30,
     "metadata": {},
     "output_type": "execute_result"
    }
   ],
   "source": [
    "out = process_image(sample_image)\n",
    "out.shape"
   ]
  },
  {
   "cell_type": "code",
   "execution_count": 31,
   "metadata": {},
   "outputs": [
    {
     "data": {
      "text/plain": [
       "<matplotlib.axes._subplots.AxesSubplot at 0x7f6588058438>"
      ]
     },
     "execution_count": 31,
     "metadata": {},
     "output_type": "execute_result"
    },
    {
     "data": {
      "image/png": "[encoded data removed]",
      "text/plain": [
       "<matplotlib.figure.Figure at 0x7f658bc99320>"
      ]
     },
     "metadata": {
      "needs_background": "light"
     },
     "output_type": "display_data"
    }
   ],
   "source": [
    "imshow(out)"
   ]
  },
  {
   "cell_type": "markdown",
   "metadata": {},
   "source": [
    "## Class Prediction\n",
    "\n",
    "Once you can get images in the correct format, it's time to write a function for making predictions with your model. A common practice is to predict the top 5 or so (usually called top-$K$) most probable classes. You'll want to calculate the class probabilities then find the $K$ largest values.\n",
    "\n",
    "To get the top $K$ largest values in a tensor use [`x.topk(k)`](http://pytorch.org/docs/master/torch.html#torch.topk). This method returns both the highest `k` probabilities and the indices of those probabilities corresponding to the classes. You need to convert from these indices to the actual class labels using `class_to_idx` which hopefully you added to the model or from an `ImageFolder` you used to load the data ([see here](#Save-the-checkpoint)). Make sure to invert the dictionary so you get a mapping from index to class as well.\n",
    "\n",
    "Again, this method should take a path to an image and a model checkpoint, then return the probabilities and classes.\n",
    "\n",
    "```python\n",
    "probs, classes = predict(image_path, model)\n",
    "print(probs)\n",
    "print(classes)\n",
    "> [ 0.01558163  0.01541934  0.01452626  0.01443549  0.01407339]\n",
    "> ['70', '3', '45', '62', '55']\n",
    "```"
   ]
  },
  {
   "cell_type": "code",
   "execution_count": 32,
   "metadata": {},
   "outputs": [],
   "source": [
    "def predict(image_path, model, topk=5):\n",
    "    ''' Predict the class (or classes) of an image using a trained deep learning model.\n",
    "    '''\n",
    "    model_chk.eval()\n",
    "    img_torch = process_image(image_path)\n",
    "    img_torch = torch.tensor(img_torch)\n",
    "    img_torch = img_torch.unsqueeze_(0)\n",
    "    img_torch = img_torch.float()\n",
    "    \n",
    "    with torch.no_grad():\n",
    "        output = model_chk(img_torch)\n",
    "    model_chk.train()\n",
    "        \n",
    "    probability = F.softmax(output.data,dim=1)\n",
    "    \n",
    "    return probability.topk(topk)\n",
    "    \n",
    "    # TODO: Implement the code to predict the class from an image file"
   ]
  },
  {
   "cell_type": "code",
   "execution_count": 33,
   "metadata": {},
   "outputs": [
    {
     "name": "stdout",
     "output_type": "stream",
     "text": [
      "(183, 216)\n"
     ]
    }
   ],
   "source": [
    "probs,classes = predict(sample_image,model_chk)"
   ]
  },
  {
   "cell_type": "code",
   "execution_count": 34,
   "metadata": {},
   "outputs": [
    {
     "name": "stdout",
     "output_type": "stream",
     "text": [
      "tensor([[ 1.0000e+00,  2.1972e-08,  5.9414e-10,  2.7796e-10,  1.2290e-11]])\n",
      "tensor([[ 14,  61,  37,  69,  85]])\n"
     ]
    }
   ],
   "source": [
    "print(probs)\n",
    "print(classes)"
   ]
  },
  {
   "cell_type": "markdown",
   "metadata": {},
   "source": [
    "## Sanity Checking\n",
    "\n",
    "Now that you can use a trained model for predictions, check to make sure it makes sense. Even if the testing accuracy is high, it's always good to check that there aren't obvious bugs. Use `matplotlib` to plot the probabilities for the top 5 classes as a bar graph, along with the input image. It should look like this:\n",
    "\n",
    "<img src='assets/inference_example.png' width=300px>\n",
    "\n",
    "You can convert from the class integer encoding to actual flower names with the `cat_to_name.json` file (should have been loaded earlier in the notebook). To show a PyTorch tensor as an image, use the `imshow` function defined above."
   ]
  },
  {
   "cell_type": "code",
   "execution_count": 35,
   "metadata": {},
   "outputs": [],
   "source": [
    "class_dict = model_chk.class_to_idx"
   ]
  },
  {
   "cell_type": "code",
   "execution_count": 36,
   "metadata": {},
   "outputs": [],
   "source": [
    "inverted_dict = dict([[v,k] for k,v in class_dict.items()])\n",
    "    "
   ]
  },
  {
   "cell_type": "code",
   "execution_count": 37,
   "metadata": {},
   "outputs": [],
   "source": [
    "cllist = []\n",
    "for cl in classes[0].tolist():\n",
    "    cllist.append(inverted_dict.get(cl))"
   ]
  },
  {
   "cell_type": "code",
   "execution_count": 38,
   "metadata": {},
   "outputs": [
    {
     "name": "stdout",
     "output_type": "stream",
     "text": [
      "['2', '62', '40', '7', '84']\n"
     ]
    }
   ],
   "source": [
    "print(cllist)"
   ]
  },
  {
   "cell_type": "code",
   "execution_count": 39,
   "metadata": {},
   "outputs": [],
   "source": [
    "cllabel=[]\n",
    "cat_to_name={}\n",
    "with open('cat_to_name.json', 'r') as f:\n",
    "    cat_to_name = json.load(f)\n",
    "    for cll in cllist:\n",
    "        cllabel.append(cat_to_name.get(cll))"
   ]
  },
  {
   "cell_type": "code",
   "execution_count": 40,
   "metadata": {},
   "outputs": [
    {
     "data": {
      "text/plain": [
       "{'21': 'fire lily',\n",
       " '3': 'canterbury bells',\n",
       " '45': 'bolero deep blue',\n",
       " '1': 'pink primrose',\n",
       " '34': 'mexican aster',\n",
       " '27': 'prince of wales feathers',\n",
       " '7': 'moon orchid',\n",
       " '16': 'globe-flower',\n",
       " '25': 'grape hyacinth',\n",
       " '26': 'corn poppy',\n",
       " '79': 'toad lily',\n",
       " '39': 'siam tulip',\n",
       " '24': 'red ginger',\n",
       " '67': 'spring crocus',\n",
       " '35': 'alpine sea holly',\n",
       " '32': 'garden phlox',\n",
       " '10': 'globe thistle',\n",
       " '6': 'tiger lily',\n",
       " '93': 'ball moss',\n",
       " '33': 'love in the mist',\n",
       " '9': 'monkshood',\n",
       " '102': 'blackberry lily',\n",
       " '14': 'spear thistle',\n",
       " '19': 'balloon flower',\n",
       " '100': 'blanket flower',\n",
       " '13': 'king protea',\n",
       " '49': 'oxeye daisy',\n",
       " '15': 'yellow iris',\n",
       " '61': 'cautleya spicata',\n",
       " '31': 'carnation',\n",
       " '64': 'silverbush',\n",
       " '68': 'bearded iris',\n",
       " '63': 'black-eyed susan',\n",
       " '69': 'windflower',\n",
       " '62': 'japanese anemone',\n",
       " '20': 'giant white arum lily',\n",
       " '38': 'great masterwort',\n",
       " '4': 'sweet pea',\n",
       " '86': 'tree mallow',\n",
       " '101': 'trumpet creeper',\n",
       " '42': 'daffodil',\n",
       " '22': 'pincushion flower',\n",
       " '2': 'hard-leaved pocket orchid',\n",
       " '54': 'sunflower',\n",
       " '66': 'osteospermum',\n",
       " '70': 'tree poppy',\n",
       " '85': 'desert-rose',\n",
       " '99': 'bromelia',\n",
       " '87': 'magnolia',\n",
       " '5': 'english marigold',\n",
       " '92': 'bee balm',\n",
       " '28': 'stemless gentian',\n",
       " '97': 'mallow',\n",
       " '57': 'gaura',\n",
       " '40': 'lenten rose',\n",
       " '47': 'marigold',\n",
       " '59': 'orange dahlia',\n",
       " '48': 'buttercup',\n",
       " '55': 'pelargonium',\n",
       " '36': 'ruby-lipped cattleya',\n",
       " '91': 'hippeastrum',\n",
       " '29': 'artichoke',\n",
       " '71': 'gazania',\n",
       " '90': 'canna lily',\n",
       " '18': 'peruvian lily',\n",
       " '98': 'mexican petunia',\n",
       " '8': 'bird of paradise',\n",
       " '30': 'sweet william',\n",
       " '17': 'purple coneflower',\n",
       " '52': 'wild pansy',\n",
       " '84': 'columbine',\n",
       " '12': \"colt's foot\",\n",
       " '11': 'snapdragon',\n",
       " '96': 'camellia',\n",
       " '23': 'fritillary',\n",
       " '50': 'common dandelion',\n",
       " '44': 'poinsettia',\n",
       " '53': 'primula',\n",
       " '72': 'azalea',\n",
       " '65': 'californian poppy',\n",
       " '80': 'anthurium',\n",
       " '76': 'morning glory',\n",
       " '37': 'cape flower',\n",
       " '56': 'bishop of llandaff',\n",
       " '60': 'pink-yellow dahlia',\n",
       " '82': 'clematis',\n",
       " '58': 'geranium',\n",
       " '75': 'thorn apple',\n",
       " '41': 'barbeton daisy',\n",
       " '95': 'bougainvillea',\n",
       " '43': 'sword lily',\n",
       " '83': 'hibiscus',\n",
       " '78': 'lotus lotus',\n",
       " '88': 'cyclamen',\n",
       " '94': 'foxglove',\n",
       " '81': 'frangipani',\n",
       " '74': 'rose',\n",
       " '89': 'watercress',\n",
       " '73': 'water lily',\n",
       " '46': 'wallflower',\n",
       " '77': 'passion flower',\n",
       " '51': 'petunia'}"
      ]
     },
     "execution_count": 40,
     "metadata": {},
     "output_type": "execute_result"
    }
   ],
   "source": [
    "cat_to_name"
   ]
  },
  {
   "cell_type": "code",
   "execution_count": 41,
   "metadata": {},
   "outputs": [
    {
     "name": "stdout",
     "output_type": "stream",
     "text": [
      "hard-leaved pocket orchid\n"
     ]
    }
   ],
   "source": [
    "print(cat_to_name.get('2'))"
   ]
  },
  {
   "cell_type": "code",
   "execution_count": 42,
   "metadata": {},
   "outputs": [],
   "source": [
    "# TODO: Display an image along with the top 5 classes\n",
    "def view_classify(img, probs,classes):\n",
    "    ''' Function for viewing an image and it's predicted classes.\n",
    "        Credits : Udacity Helper.py\n",
    "    '''\n",
    "\n",
    "    fig, (ax1, ax2) = plt.subplots(figsize=(6,10), ncols=1, nrows=2)\n",
    "    \n",
    "    img = img.transpose((1, 2, 0))\n",
    "    \n",
    "    mean = np.array([0.485, 0.456, 0.406])\n",
    "    std = np.array([0.229, 0.224, 0.225])\n",
    "    img = std * img + mean\n",
    "    \n",
    "    img = np.clip(img, 0, 1)\n",
    "    # Because sample image is from '2' folder from test data /home/workspace/aipnd-project/flowers/test/2/image_05109.jpg\n",
    "    ax1.set_title(cat_to_name.get('2')) \n",
    "    \n",
    "    ax1.imshow(img)\n",
    "    \n",
    "    \n",
    "    ax1.axis('off')\n",
    "    \n",
    "    y_pos = np.arange(len(probs[0].tolist()))\n",
    "    ax2.barh(y_pos, probs[0].tolist())\n",
    "    ax2.set_yticks(y_pos)\n",
    "    ax2.set_yticklabels(cllabel)\n",
    "    ax2.invert_yaxis()\n",
    "    ax2.set_title('Class Probability')\n"
   ]
  },
  {
   "cell_type": "code",
   "execution_count": 43,
   "metadata": {},
   "outputs": [
    {
     "name": "stdout",
     "output_type": "stream",
     "text": [
      "(183, 216)\n"
     ]
    },
    {
     "data": {
      "image/png": "[encoded data removed]",
      "text/plain": [
       "<matplotlib.figure.Figure at 0x7f6583f9eb70>"
      ]
     },
     "metadata": {
      "needs_background": "light"
     },
     "output_type": "display_data"
    }
   ],
   "source": [
    "view_classify(process_image(sample_image),probs,classes)"
   ]
  },
  {
   "cell_type": "code",
   "execution_count": null,
   "metadata": {},
   "outputs": [],
   "source": []
  }
 ],
 "metadata": {
  "kernelspec": {
   "display_name": "Python 3",
   "language": "python",
   "name": "python3"
  },
  "language_info": {
   "codemirror_mode": {
    "name": "ipython",
    "version": 3
   },
   "file_extension": ".py",
   "mimetype": "text/x-python",
   "name": "python",
   "nbconvert_exporter": "python",
   "pygments_lexer": "ipython3",
   "version": "3.6.3"
  }
 },
 "nbformat": 4,
 "nbformat_minor": 2
}
